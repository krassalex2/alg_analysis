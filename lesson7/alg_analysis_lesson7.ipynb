{
 "cells": [
  {
   "cell_type": "markdown",
   "id": "2360019c",
   "metadata": {},
   "source": [
    "#### К алгоритму kNN, реализованному на уроке, реализовать добавление весов для соседей по любому из показанных на уроке принципов."
   ]
  },
  {
   "cell_type": "code",
   "execution_count": 1,
   "id": "1c6f7457",
   "metadata": {},
   "outputs": [],
   "source": [
    "import numpy as np\n",
    "from sklearn.model_selection import train_test_split\n",
    "from sklearn.datasets import load_iris\n",
    "import matplotlib.pyplot as plt\n",
    "from matplotlib.colors import ListedColormap"
   ]
  },
  {
   "cell_type": "code",
   "execution_count": 2,
   "id": "5c5441cc",
   "metadata": {},
   "outputs": [],
   "source": [
    "X, y = load_iris(return_X_y=True)\n",
    "\n",
    "# Для наглядности возьмем только первые два признака (всего в датасете их 4)\n",
    "X = X[:, :2]"
   ]
  },
  {
   "cell_type": "code",
   "execution_count": 3,
   "id": "fc56ee29",
   "metadata": {},
   "outputs": [
    {
     "data": {
      "text/plain": [
       "((120, 2), (30, 2))"
      ]
     },
     "execution_count": 3,
     "metadata": {},
     "output_type": "execute_result"
    }
   ],
   "source": [
    "X_train, X_test, y_train, y_test = train_test_split(X, y,\n",
    "                                                    test_size=0.2,\n",
    "                                                    random_state=1,\n",
    "                                                    stratify=y)\n",
    "X_train.shape, X_test.shape"
   ]
  },
  {
   "cell_type": "code",
   "execution_count": 4,
   "id": "4181fe7d",
   "metadata": {},
   "outputs": [
    {
     "data": {
      "image/png": "[encoded data removed]",
      "text/plain": [
       "<Figure size 504x504 with 1 Axes>"
      ]
     },
     "metadata": {
      "needs_background": "light"
     },
     "output_type": "display_data"
    }
   ],
   "source": [
    "cmap = ListedColormap(['red', 'green', 'blue'])\n",
    "plt.figure(figsize=(7, 7))\n",
    "plt.scatter(X[:, 0], X[:, 1], c=y, cmap=cmap);"
   ]
  },
  {
   "cell_type": "code",
   "execution_count": 5,
   "id": "24bace9a",
   "metadata": {},
   "outputs": [],
   "source": [
    "def e_metrics(x1, x2):\n",
    "    \n",
    "    distance = np.sum(np.square(x1 - x2))\n",
    "\n",
    "    return np.sqrt(distance)"
   ]
  },
  {
   "cell_type": "code",
   "execution_count": 9,
   "id": "08ea3e07",
   "metadata": {},
   "outputs": [],
   "source": [
    "def knn(x_train, y_train, x_test, k):\n",
    "    \n",
    "    answers = []\n",
    "    for x in x_test:\n",
    "        test_distances = []\n",
    "            \n",
    "        for i in range(len(x_train)):\n",
    "            \n",
    "            # расчет расстояния от классифицируемого объекта до\n",
    "            # объекта обучающей выборки\n",
    "            distance = e_metrics(x, x_train[i])\n",
    "            \n",
    "            # Записываем в список значение расстояния и ответа на объекте обучающей выборки\n",
    "            test_distances.append((distance, y_train[i]))\n",
    "        \n",
    "        # создаем словарь со всеми возможными классами\n",
    "        classes = {class_item: 0 for class_item in set(y_train)}\n",
    "        \n",
    "        # Сортируем список и среди первых k элементов подсчитаем частоту появления разных классов\n",
    "        q = 0.5\n",
    "        for d in sorted(test_distances)[0:k]:\n",
    "            classes[d[1]] += q ** d[0] # веса по расстоянию - суммируем веса по каждому из классов\n",
    "\n",
    "        # Записываем в список ответов наиболее часто встречающийся класс\n",
    "        answers.append(sorted(classes, key=classes.get)[-1])\n",
    "        \n",
    "    return answers"
   ]
  },
  {
   "cell_type": "code",
   "execution_count": 10,
   "id": "7c3405d0",
   "metadata": {},
   "outputs": [],
   "source": [
    "def accuracy(pred, y):\n",
    "    return (sum(pred == y) / len(y))"
   ]
  },
  {
   "cell_type": "code",
   "execution_count": 29,
   "id": "36dda68e",
   "metadata": {},
   "outputs": [
    {
     "name": "stdout",
     "output_type": "stream",
     "text": [
      "Точность алгоритма при k = 10: 0.767\n"
     ]
    }
   ],
   "source": [
    "k = 10\n",
    "\n",
    "y_pred = knn(X_train, y_train, X_test, k)\n",
    "\n",
    "print(f'Точность алгоритма при k = {k}: {accuracy(y_pred, y_test):.3f}')"
   ]
  },
  {
   "cell_type": "code",
   "execution_count": 30,
   "id": "9dff12f4",
   "metadata": {},
   "outputs": [],
   "source": [
    "def get_graph(X_train, y_train, k):\n",
    "    cmap_light = ListedColormap(['#FFAAAA', '#AAFFAA','#00AAFF'])\n",
    "\n",
    "    h = .1\n",
    "\n",
    "    # Расчет пределов графика\n",
    "    x_min, x_max = X_train[:, 0].min() - 1, X_train[:, 0].max() + 1\n",
    "    y_min, y_max = X_train[:, 1].min() - 1, X_train[:, 1].max() + 1\n",
    "    xx, yy = np.meshgrid(np.arange(x_min, x_max, h), np.arange(y_min, y_max, h))\n",
    "    print(np.c_[xx.ravel(), yy.ravel()].shape)\n",
    "\n",
    "    # Получим предсказания для всех точек\n",
    "    Z = knn(X_train, y_train, np.c_[xx.ravel(), yy.ravel()], k)\n",
    "    # Построим график\n",
    "    Z = np.array(Z).reshape(xx.shape)\n",
    "    plt.figure(figsize=(7,7))\n",
    "    plt.pcolormesh(xx, yy, Z, cmap=cmap_light)\n",
    "\n",
    "    # Добавим на график обучающую выборку\n",
    "    plt.scatter(X_train[:, 0], X_train[:, 1], c=y_train, cmap=cmap)\n",
    "    plt.xlim(xx.min(), xx.max())\n",
    "    plt.ylim(yy.min(), yy.max())\n",
    "    plt.title(f\"Трехклассовая kNN классификация при k = {k}\")\n",
    "    plt.show()"
   ]
  },
  {
   "cell_type": "code",
   "execution_count": 31,
   "id": "357e1803",
   "metadata": {},
   "outputs": [
    {
     "name": "stdout",
     "output_type": "stream",
     "text": [
      "(2352, 2)\n"
     ]
    },
    {
     "data": {
      "image/png": "[encoded data removed]",
      "text/plain": [
       "<Figure size 504x504 with 1 Axes>"
      ]
     },
     "metadata": {
      "needs_background": "light"
     },
     "output_type": "display_data"
    },
    {
     "name": "stdout",
     "output_type": "stream",
     "text": [
      "CPU times: total: 2.03 s\n",
      "Wall time: 2.03 s\n"
     ]
    }
   ],
   "source": [
    "%%time\n",
    "get_graph(X_train, y_train, k)"
   ]
  },
  {
   "cell_type": "markdown",
   "id": "cfcc0247",
   "metadata": {},
   "source": [
    "#### Напишите функцию по подсчёту метрики качества кластеризации как среднее квадратичное внутрикластерное расстояние и постройте график её зависимости от k (взять от 1 до 10) для выборки данных из этого урока."
   ]
  },
  {
   "cell_type": "code",
   "execution_count": 40,
   "id": "08feb0c6",
   "metadata": {},
   "outputs": [],
   "source": [
    "def kmeans(data, k, max_iterations, min_distance):\n",
    "    # Создадим словарь для классификации\n",
    "    classes = {i: [] for i in range(k)}\n",
    "    \n",
    "    # инициализируем центроиды как первые k элементов датасета\n",
    "    centroids = [data[i] for i in range(k)]\n",
    "    \n",
    "    for _ in range(max_iterations):\n",
    "        # классифицируем объекты по центроидам\n",
    "        for x in data:\n",
    "            # определим расстояния от объекта до каждого центроида\n",
    "            distances = [e_metrics(x, centroid) for centroid in centroids]\n",
    "            # отнесем объект к классу, до центроида которого наименьшее расстояние\n",
    "            classification = distances.index(min(distances))\n",
    "            classes[classification].append(x)\n",
    "        \n",
    "        # сохраним предыдущие центроиды в отдельный список для последующего сравнения сновыми\n",
    "        old_centroids = centroids.copy()\n",
    "        \n",
    "        # пересчитаем центроиды как среднее по кластерам\n",
    "        for classification in classes:\n",
    "            centroids[classification] = np.average(classes[classification], axis=0)\n",
    "            \n",
    "        # сравним величину смещения центроидов с минимальной\n",
    "        optimal = True\n",
    "        for centroid in range(len(centroids)):\n",
    "            if abs(np.sum((centroids[centroid] - old_centroids[centroid]) / old_centroids * 100)) > min_distance:\n",
    "                optimal = False\n",
    "                \n",
    "        # если все смещения меньше минимального, останавливаем алгоритм  \n",
    "        if optimal:\n",
    "            break\n",
    "    \n",
    "    return old_centroids, classes"
   ]
  },
  {
   "cell_type": "code",
   "execution_count": 41,
   "id": "8437360d",
   "metadata": {},
   "outputs": [],
   "source": [
    "def square_mean(centroids, clusters):\n",
    "    clusters_mean_dist = 0\n",
    "    for class_, points in clusters.items():\n",
    "        mean_dist = np.sum((points - centroids[class_]) ** 2) / len(points)\n",
    "        clusters_mean_dist += mean_dist\n",
    "    return clusters_mean_dist"
   ]
  },
  {
   "cell_type": "code",
   "execution_count": 42,
   "id": "39697901",
   "metadata": {},
   "outputs": [],
   "source": [
    "from sklearn.datasets import make_blobs\n",
    "import random\n",
    "\n",
    "X, y = make_blobs(n_samples=100, random_state=1)"
   ]
  },
  {
   "cell_type": "code",
   "execution_count": 43,
   "id": "f41dfa3b",
   "metadata": {},
   "outputs": [],
   "source": [
    "# определим максимальное количество итераций\n",
    "max_iterations = 1\n",
    "\n",
    "# и минимальное расстояние между центроидами до пересчета и после него, при котором нужно остановить алгоритм\n",
    "min_distance = 1e-4\n",
    "\n",
    "# сразу определим известное нам количество кластеров\n",
    "k = 3"
   ]
  },
  {
   "cell_type": "code",
   "execution_count": 44,
   "id": "963c11a8",
   "metadata": {},
   "outputs": [],
   "source": [
    "max_iterations = 1\n",
    "min_distance = 1e-4\n",
    "num_clusters = np.arange(1, 11)\n",
    "clusters_dist = []\n",
    "\n",
    "for k in num_clusters:\n",
    "    centroids, clusters = kmeans(X, k, max_iterations, min_distance)\n",
    "    clusters_mean_dist = square_mean(centroids, clusters)\n",
    "    clusters_dist.append(clusters_mean_dist)"
   ]
  },
  {
   "cell_type": "code",
   "execution_count": 45,
   "id": "cf471840",
   "metadata": {},
   "outputs": [
    {
     "data": {
      "text/plain": [
       "Text(0, 0.5, 'Среднее внутрикластерное расстояние')"
      ]
     },
     "execution_count": 45,
     "metadata": {},
     "output_type": "execute_result"
    },
    {
     "data": {
      "image/png": "[encoded data removed]",
      "text/plain": [
       "<Figure size 432x288 with 1 Axes>"
      ]
     },
     "metadata": {
      "needs_background": "light"
     },
     "output_type": "display_data"
    }
   ],
   "source": [
    "plt.plot(num_clusters, clusters_dist)\n",
    "plt.xlabel('Количество кластеров')\n",
    "plt.ylabel('Среднее внутрикластерное расстояние')"
   ]
  },
  {
   "cell_type": "code",
   "execution_count": null,
   "id": "f964a734",
   "metadata": {},
   "outputs": [],
   "source": []
  }
 ],
 "metadata": {
  "kernelspec": {
   "display_name": "Python 3 (ipykernel)",
   "language": "python",
   "name": "python3"
  },
  "language_info": {
   "codemirror_mode": {
    "name": "ipython",
    "version": 3
   },
   "file_extension": ".py",
   "mimetype": "text/x-python",
   "name": "python",
   "nbconvert_exporter": "python",
   "pygments_lexer": "ipython3",
   "version": "3.9.12"
  }
 },
 "nbformat": 4,
 "nbformat_minor": 5
}
