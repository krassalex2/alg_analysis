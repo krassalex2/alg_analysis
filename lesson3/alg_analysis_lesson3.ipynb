{
 "cells": [
  {
   "cell_type": "markdown",
   "id": "a4343dca",
   "metadata": {},
   "source": [
    "#### 1. Измените функцию calc_logloss так, чтобы нули по возможности не попадали в np.log"
   ]
  },
  {
   "cell_type": "code",
   "execution_count": 1,
   "id": "d6ca4e02",
   "metadata": {},
   "outputs": [],
   "source": [
    "import numpy as np\n",
    "import matplotlib.pyplot as plt"
   ]
  },
  {
   "cell_type": "code",
   "execution_count": 2,
   "id": "93416b06",
   "metadata": {},
   "outputs": [],
   "source": [
    "def calc_logloss(y, y_pred):\n",
    "    err = - np.mean(y * np.log1p(y_pred) + (1.0 - y) * np.log1p(1.0 - y_pred))\n",
    "    return err"
   ]
  },
  {
   "cell_type": "code",
   "execution_count": 3,
   "id": "72af15a5",
   "metadata": {},
   "outputs": [
    {
     "data": {
      "text/plain": [
       "-0.6148202755372569"
      ]
     },
     "execution_count": 3,
     "metadata": {},
     "output_type": "execute_result"
    }
   ],
   "source": [
    "# Пример применения\n",
    "y1 = np.array([1, 0])\n",
    "y_pred1 = np.array([0.8, 0.1])\n",
    "calc_logloss(y1, y_pred1)"
   ]
  },
  {
   "cell_type": "code",
   "execution_count": 4,
   "id": "6e9f6634",
   "metadata": {},
   "outputs": [
    {
     "data": {
      "text/plain": [
       "-0.6404669227310322"
      ]
     },
     "execution_count": 4,
     "metadata": {},
     "output_type": "execute_result"
    }
   ],
   "source": [
    "# Граничный пример применения\n",
    "y1 = np.array([1, 0])\n",
    "y_pred1 = np.array([1, 0.2])\n",
    "calc_logloss(y1, y_pred1)"
   ]
  },
  {
   "cell_type": "markdown",
   "id": "5652e326",
   "metadata": {},
   "source": [
    "#### 2. Подберите аргументы функции eval_model для логистической регрессии таким образом, чтобы log loss был минимальным."
   ]
  },
  {
   "cell_type": "code",
   "execution_count": 5,
   "id": "9723af87",
   "metadata": {},
   "outputs": [],
   "source": [
    "X = np.array([ [   1,    1,  500,    1],\n",
    "               [   1,    1,  700,    1],\n",
    "               [   1,    2,  750,    2],\n",
    "               [   1,    5,  600,    1],\n",
    "               [   1,    3, 1450,    2],\n",
    "               [   1,    0,  800,    1],\n",
    "               [   1,    5, 1500,    3],\n",
    "               [   1,   10, 2000,    3],\n",
    "               [   1,    1,  450,    1],\n",
    "               [   1,    2, 1000,    2]], dtype=np.float64)\n",
    "\n",
    "y = np.array([0, 0, 1, 0, 1, 0, 1, 0, 1, 1], dtype=np.float64)"
   ]
  },
  {
   "cell_type": "code",
   "execution_count": 6,
   "id": "696debf8",
   "metadata": {},
   "outputs": [],
   "source": [
    "def standard_scale(x):\n",
    "    res = (x - x.mean()) / x.std()\n",
    "    return res"
   ]
  },
  {
   "cell_type": "code",
   "execution_count": 7,
   "id": "5f89894a",
   "metadata": {},
   "outputs": [],
   "source": [
    "X_st = X.copy()\n",
    "X_st[:, 2] = standard_scale(X[:, 2])"
   ]
  },
  {
   "cell_type": "code",
   "execution_count": 8,
   "id": "ec36801d",
   "metadata": {},
   "outputs": [],
   "source": [
    "def sigmoid(z):\n",
    "    res = 1 / (1 + np.exp(-z))\n",
    "    return res"
   ]
  },
  {
   "cell_type": "code",
   "execution_count": 9,
   "id": "c02ee5b7",
   "metadata": {},
   "outputs": [],
   "source": [
    "def eval_model(X, y, iterations, eta=1e-4):\n",
    "    np.random.seed(42)\n",
    "    W = np.random.randn(X.shape[1])\n",
    "    n = X.shape[0]\n",
    "    \n",
    "    for i in range(iterations):\n",
    "        z = np.dot(X, W)\n",
    "        y_pred = sigmoid(z)\n",
    "        err = calc_logloss(y, y_pred)\n",
    "        \n",
    "        dQ = 1/n * X.T @ (y_pred - y)\n",
    "        W -= eta * dQ\n",
    "        if i % (iterations / 10) == 0:\n",
    "            print(i, W, err)\n",
    "    return W"
   ]
  },
  {
   "cell_type": "code",
   "execution_count": 10,
   "id": "c771ccae",
   "metadata": {},
   "outputs": [
    {
     "name": "stdout",
     "output_type": "stream",
     "text": [
      "0 [ 0.49671377 -0.13826575  0.64768851  1.52302929] -0.40567765245791315\n",
      "50 [ 0.4966948  -0.13833829  0.64768714  1.52300098] -0.4056858926470109\n",
      "100 [ 0.49667584 -0.13841083  0.64768577  1.52297268] -0.405694133267087\n",
      "150 [ 0.49665687 -0.13848337  0.6476844   1.52294437] -0.4057023743177658\n",
      "200 [ 0.4966379  -0.1385559   0.64768303  1.52291607] -0.4057106157986722\n",
      "250 [ 0.49661894 -0.13862843  0.64768166  1.52288777] -0.4057188577094307\n",
      "300 [ 0.49659997 -0.13870096  0.64768029  1.52285947] -0.4057271000496664\n",
      "350 [ 0.49658101 -0.13877348  0.64767891  1.52283117] -0.405735342819004\n",
      "400 [ 0.49656205 -0.138846    0.64767754  1.52280287] -0.40574358601706856\n",
      "450 [ 0.49654309 -0.13891852  0.64767617  1.52277457] -0.40575182964348533\n"
     ]
    }
   ],
   "source": [
    "W = eval_model(X_st, y, iterations=500, eta=1e-6)"
   ]
  },
  {
   "cell_type": "markdown",
   "id": "761811e0",
   "metadata": {},
   "source": [
    "#### 3. Создайте функцию calc_pred_proba, возвращающую предсказанную вероятность класса 1. На вход подаётся W, который уже посчитан функцией eval_model, и X, на выходе — массив y_pred_proba."
   ]
  },
  {
   "cell_type": "code",
   "execution_count": 11,
   "id": "a7678973",
   "metadata": {},
   "outputs": [],
   "source": [
    "def calc_pred_proba(W, X):\n",
    "    z = sigmoid(np.dot(X,W))\n",
    "    return z"
   ]
  },
  {
   "cell_type": "code",
   "execution_count": 12,
   "id": "fa2e944d",
   "metadata": {},
   "outputs": [
    {
     "name": "stdout",
     "output_type": "stream",
     "text": [
      "0 [ 0.30702071 -0.8637023   0.63399833  1.23995672] -0.40567765245791315\n",
      "10000 [-24.52908728  -2.59446649  -6.46646026  20.31481166] -0.6290668687355121\n",
      "20000 [-33.59529145  -3.41367073  -9.03407815  27.6566593 ] -0.6418466106595424\n",
      "30000 [-39.81744841  -3.96631789 -10.78976588  32.6585122 ] -0.647736463148566\n",
      "40000 [-44.75906464  -4.39229709 -12.19195091  36.59812039] -0.6513774997827542\n",
      "50000 [-48.98128881  -4.74319844 -13.40056249  39.93475083] -0.6539924907436797\n",
      "60000 [-52.74597263  -5.04366664 -14.48880326  42.88347092] -0.656045320580432\n",
      "70000 [-56.1947235   -5.30759987 -15.49541444  45.56162416] -0.6577521213817646\n",
      "80000 [-59.41142516  -5.54385926 -16.44267207  48.03989384] -0.6592276106220333\n",
      "90000 [-62.44881255  -5.75862516 -17.34403189  50.3638311 ] -0.6605382843150149\n"
     ]
    }
   ],
   "source": [
    "W = eval_model(X_st, y, iterations=100000, eta=0.5)"
   ]
  },
  {
   "cell_type": "code",
   "execution_count": 13,
   "id": "85628dc5",
   "metadata": {},
   "outputs": [
    {
     "data": {
      "text/plain": [
       "array([2.89578406e-01, 2.23157729e-04, 1.00000000e+00, 4.28637591e-13,\n",
       "       9.83394794e-01, 2.01330849e-03, 1.00000000e+00, 3.32748084e-03,\n",
       "       7.27120422e-01, 1.00000000e+00])"
      ]
     },
     "execution_count": 13,
     "metadata": {},
     "output_type": "execute_result"
    }
   ],
   "source": [
    "calc_pred_proba(W, X_st)"
   ]
  },
  {
   "cell_type": "markdown",
   "id": "e5d572e7",
   "metadata": {},
   "source": [
    "#### 4. Создайте функцию calc_pred, возвращающую предсказанный класс. На вход подаётся W, который уже посчитан функцией eval_model, и X, на выходе — массив y_pred."
   ]
  },
  {
   "cell_type": "code",
   "execution_count": 14,
   "id": "3b511a8f",
   "metadata": {},
   "outputs": [],
   "source": [
    "def calc_pred(W, X, treshold = 0.5):\n",
    "    y_pred = calc_pred_proba(W, X)\n",
    "    y_pred = np.where(y_pred > treshold, 1, 0 )\n",
    "    return y_pred"
   ]
  },
  {
   "cell_type": "code",
   "execution_count": 15,
   "id": "a34c188d",
   "metadata": {},
   "outputs": [
    {
     "data": {
      "text/plain": [
       "array([0, 0, 1, 0, 1, 0, 1, 0, 1, 1])"
      ]
     },
     "execution_count": 15,
     "metadata": {},
     "output_type": "execute_result"
    }
   ],
   "source": [
    "y_pred = calc_pred(W, X_st)\n",
    "y_pred"
   ]
  },
  {
   "cell_type": "markdown",
   "id": "3a035b5c",
   "metadata": {},
   "source": [
    "#### 5. Посчитайте Accuracy, матрицу ошибок, точность и полноту, а также F1 score."
   ]
  },
  {
   "cell_type": "code",
   "execution_count": 24,
   "id": "599d476b",
   "metadata": {},
   "outputs": [],
   "source": [
    "def get_results(y, y_pred):\n",
    "    TP = ((y == 1) & (y_pred == 1)).sum() \n",
    "    TN = ((y == 0) & (y_pred == 0)).sum()\n",
    "    FN = ((y == 1) & (y_pred == 0)).sum() \n",
    "    FP = ((y == 0) & (y_pred == 1)).sum() \n",
    "    \n",
    "    accuracy = (TP + TN) / (TP + TN + FN + FP)\n",
    "    precision = TP / (TP + FP)\n",
    "    recall = TP / (TP + FN)\n",
    "    f1_score = 2 * precision * recall / precision * recall\n",
    "    \n",
    "    return ((TP, TN, FN, FP), accuracy, precision, recall, f1_score)"
   ]
  },
  {
   "cell_type": "code",
   "execution_count": 25,
   "id": "27607111",
   "metadata": {},
   "outputs": [
    {
     "data": {
      "text/plain": [
       "(array([0., 0., 1., 0., 1., 0., 1., 0., 1., 1.]),\n",
       " array([0, 0, 1, 0, 1, 0, 1, 0, 1, 1]))"
      ]
     },
     "execution_count": 25,
     "metadata": {},
     "output_type": "execute_result"
    }
   ],
   "source": [
    "(y, y_pred)\n"
   ]
  },
  {
   "cell_type": "markdown",
   "id": "4cc3dc67",
   "metadata": {},
   "source": [
    "#### 6. Могла ли модель переобучиться? Почему?"
   ]
  },
  {
   "cell_type": "code",
   "execution_count": null,
   "id": "d4255145",
   "metadata": {},
   "outputs": [],
   "source": [
    "В данном случае у нас очень мало наблюдей."
   ]
  }
 ],
 "metadata": {
  "kernelspec": {
   "display_name": "Python 3 (ipykernel)",
   "language": "python",
   "name": "python3"
  },
  "language_info": {
   "codemirror_mode": {
    "name": "ipython",
    "version": 3
   },
   "file_extension": ".py",
   "mimetype": "text/x-python",
   "name": "python",
   "nbconvert_exporter": "python",
   "pygments_lexer": "ipython3",
   "version": "3.9.12"
  }
 },
 "nbformat": 4,
 "nbformat_minor": 5
}
